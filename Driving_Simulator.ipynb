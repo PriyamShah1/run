{
  "nbformat": 4,
  "nbformat_minor": 0,
  "metadata": {
    "colab": {
      "name": "Driving_Simulator.ipynb",
      "version": "0.3.2",
      "provenance": [],
      "include_colab_link": true
    },
    "kernelspec": {
      "name": "python3",
      "display_name": "Python 3"
    },
    "accelerator": "GPU"
  },
  "cells": [
    {
      "cell_type": "markdown",
      "metadata": {
        "id": "view-in-github",
        "colab_type": "text"
      },
      "source": [
        "<a href=\"https://colab.research.google.com/github/PriyamShah1/run/blob/master/Driving_Simulator.ipynb\" target=\"_parent\"><img src=\"https://colab.research.google.com/assets/colab-badge.svg\" alt=\"Open In Colab\"/></a>"
      ]
    },
    {
      "metadata": {
        "id": "iWr1TvYmJ9bH",
        "colab_type": "code",
        "outputId": "ca620795-6bfd-45d8-acc5-ba3fe0bd6786",
        "colab": {
          "base_uri": "https://localhost:8080/",
          "height": 155
        }
      },
      "cell_type": "code",
      "source": [
        "!git clone https://github.com/PriyamShah1/run"
      ],
      "execution_count": 1,
      "outputs": [
        {
          "output_type": "stream",
          "text": [
            "Cloning into 'run'...\n",
            "remote: Enumerating objects: 11510, done.\u001b[K\n",
            "remote: Counting objects: 100% (11510/11510), done.\u001b[K\n",
            "remote: Compressing objects: 100% (11510/11510), done.\u001b[K\n",
            "remote: Total 11510 (delta 2), reused 11508 (delta 0), pack-reused 0\u001b[K\n",
            "Receiving objects: 100% (11510/11510), 166.81 MiB | 30.25 MiB/s, done.\n",
            "Resolving deltas: 100% (2/2), done.\n",
            "Checking out files: 100% (11503/11503), done.\n"
          ],
          "name": "stdout"
        }
      ]
    },
    {
      "metadata": {
        "id": "bn19RFgDMw18",
        "colab_type": "code",
        "outputId": "ef86324d-a1e9-4c25-8470-d0de123919f1",
        "colab": {
          "base_uri": "https://localhost:8080/",
          "height": 34
        }
      },
      "cell_type": "code",
      "source": [
        "ls run"
      ],
      "execution_count": 2,
      "outputs": [
        {
          "output_type": "stream",
          "text": [
            "driving_log.csv  \u001b[0m\u001b[01;34mIMG\u001b[0m/\n"
          ],
          "name": "stdout"
        }
      ]
    },
    {
      "metadata": {
        "id": "B6xxtU88P8DP",
        "colab_type": "code",
        "colab": {
          "base_uri": "https://localhost:8080/",
          "height": 309
        },
        "outputId": "79635327-58fc-4dbc-ace8-983029842761"
      },
      "cell_type": "code",
      "source": [
        "\n",
        "!pip3 install imgaug\n",
        "import os\n",
        "import numpy as np\n",
        "import matplotlib.pyplot as plt\n",
        "import matplotlib.image as mpimg\n",
        "import keras\n",
        "from keras.models import Sequential\n",
        "from keras.optimizers import Adam\n",
        "from keras.layers import Convolution2D, MaxPooling2D, Dropout, Flatten, Dense\n",
        "from sklearn.utils import shuffle\n",
        "from sklearn.model_selection import train_test_split\n",
        "from imgaug import augmenters as iaa\n",
        "import cv2\n",
        "import pandas as pd\n",
        "import ntpath\n",
        "import random"
      ],
      "execution_count": 3,
      "outputs": [
        {
          "output_type": "stream",
          "text": [
            "ls: cannot access 'track': No such file or directory\n",
            "Requirement already satisfied: imgaug in /usr/local/lib/python3.6/dist-packages (0.2.6)\n",
            "Requirement already satisfied: scipy in /usr/local/lib/python3.6/dist-packages (from imgaug) (1.1.0)\n",
            "Requirement already satisfied: scikit-image>=0.11.0 in /usr/local/lib/python3.6/dist-packages (from imgaug) (0.13.1)\n",
            "Requirement already satisfied: numpy>=1.7.0 in /usr/local/lib/python3.6/dist-packages (from imgaug) (1.14.6)\n",
            "Requirement already satisfied: six in /usr/local/lib/python3.6/dist-packages (from imgaug) (1.11.0)\n",
            "Requirement already satisfied: networkx>=1.8 in /usr/local/lib/python3.6/dist-packages (from scikit-image>=0.11.0->imgaug) (2.2)\n",
            "Requirement already satisfied: pillow>=2.1.0 in /usr/local/lib/python3.6/dist-packages (from scikit-image>=0.11.0->imgaug) (4.0.0)\n",
            "Requirement already satisfied: PyWavelets>=0.4.0 in /usr/local/lib/python3.6/dist-packages (from scikit-image>=0.11.0->imgaug) (1.0.1)\n",
            "Requirement already satisfied: matplotlib>=1.3.1 in /usr/local/lib/python3.6/dist-packages (from scikit-image>=0.11.0->imgaug) (2.1.2)\n",
            "Requirement already satisfied: decorator>=4.3.0 in /usr/local/lib/python3.6/dist-packages (from networkx>=1.8->scikit-image>=0.11.0->imgaug) (4.3.0)\n",
            "Requirement already satisfied: olefile in /usr/local/lib/python3.6/dist-packages (from pillow>=2.1.0->scikit-image>=0.11.0->imgaug) (0.46)\n",
            "Requirement already satisfied: cycler>=0.10 in /usr/local/lib/python3.6/dist-packages (from matplotlib>=1.3.1->scikit-image>=0.11.0->imgaug) (0.10.0)\n",
            "Requirement already satisfied: pytz in /usr/local/lib/python3.6/dist-packages (from matplotlib>=1.3.1->scikit-image>=0.11.0->imgaug) (2018.9)\n",
            "Requirement already satisfied: pyparsing!=2.0.4,!=2.1.2,!=2.1.6,>=2.0.1 in /usr/local/lib/python3.6/dist-packages (from matplotlib>=1.3.1->scikit-image>=0.11.0->imgaug) (2.3.0)\n",
            "Requirement already satisfied: python-dateutil>=2.1 in /usr/local/lib/python3.6/dist-packages (from matplotlib>=1.3.1->scikit-image>=0.11.0->imgaug) (2.5.3)\n"
          ],
          "name": "stdout"
        },
        {
          "output_type": "stream",
          "text": [
            "Using TensorFlow backend.\n"
          ],
          "name": "stderr"
        }
      ]
    },
    {
      "metadata": {
        "id": "yRDUD-D6QBtY",
        "colab_type": "code",
        "outputId": "a8a54187-8f54-4b2d-e173-d019699b6fbb",
        "colab": {
          "base_uri": "https://localhost:8080/",
          "height": 223
        }
      },
      "cell_type": "code",
      "source": [
        "datadir = 'run'\n",
        "columns = ['center', 'left', 'right', 'steering', 'throttle', 'reverse', 'speed']\n",
        "data = pd.read_csv(os.path.join(datadir, 'driving_log.csv'), names = columns)\n",
        "pd.set_option('display.max_colwidth', -1)\n",
        "data.head()"
      ],
      "execution_count": 4,
      "outputs": [
        {
          "output_type": "execute_result",
          "data": {
            "text/html": [
              "<div>\n",
              "<style scoped>\n",
              "    .dataframe tbody tr th:only-of-type {\n",
              "        vertical-align: middle;\n",
              "    }\n",
              "\n",
              "    .dataframe tbody tr th {\n",
              "        vertical-align: top;\n",
              "    }\n",
              "\n",
              "    .dataframe thead th {\n",
              "        text-align: right;\n",
              "    }\n",
              "</style>\n",
              "<table border=\"1\" class=\"dataframe\">\n",
              "  <thead>\n",
              "    <tr style=\"text-align: right;\">\n",
              "      <th></th>\n",
              "      <th>center</th>\n",
              "      <th>left</th>\n",
              "      <th>right</th>\n",
              "      <th>steering</th>\n",
              "      <th>throttle</th>\n",
              "      <th>reverse</th>\n",
              "      <th>speed</th>\n",
              "    </tr>\n",
              "  </thead>\n",
              "  <tbody>\n",
              "    <tr>\n",
              "      <th>0</th>\n",
              "      <td>C:\\Users\\priya\\Documents\\Data\\IMG\\center_2019_01_13_15_22_37_699.jpg</td>\n",
              "      <td>C:\\Users\\priya\\Documents\\Data\\IMG\\left_2019_01_13_15_22_37_699.jpg</td>\n",
              "      <td>C:\\Users\\priya\\Documents\\Data\\IMG\\right_2019_01_13_15_22_37_699.jpg</td>\n",
              "      <td>0.0</td>\n",
              "      <td>0.0</td>\n",
              "      <td>0</td>\n",
              "      <td>0.000078</td>\n",
              "    </tr>\n",
              "    <tr>\n",
              "      <th>1</th>\n",
              "      <td>C:\\Users\\priya\\Documents\\Data\\IMG\\center_2019_01_13_15_22_37_801.jpg</td>\n",
              "      <td>C:\\Users\\priya\\Documents\\Data\\IMG\\left_2019_01_13_15_22_37_801.jpg</td>\n",
              "      <td>C:\\Users\\priya\\Documents\\Data\\IMG\\right_2019_01_13_15_22_37_801.jpg</td>\n",
              "      <td>0.0</td>\n",
              "      <td>0.0</td>\n",
              "      <td>0</td>\n",
              "      <td>0.000078</td>\n",
              "    </tr>\n",
              "    <tr>\n",
              "      <th>2</th>\n",
              "      <td>C:\\Users\\priya\\Documents\\Data\\IMG\\center_2019_01_13_15_22_37_904.jpg</td>\n",
              "      <td>C:\\Users\\priya\\Documents\\Data\\IMG\\left_2019_01_13_15_22_37_904.jpg</td>\n",
              "      <td>C:\\Users\\priya\\Documents\\Data\\IMG\\right_2019_01_13_15_22_37_904.jpg</td>\n",
              "      <td>0.0</td>\n",
              "      <td>0.0</td>\n",
              "      <td>0</td>\n",
              "      <td>0.000078</td>\n",
              "    </tr>\n",
              "    <tr>\n",
              "      <th>3</th>\n",
              "      <td>C:\\Users\\priya\\Documents\\Data\\IMG\\center_2019_01_13_15_22_38_006.jpg</td>\n",
              "      <td>C:\\Users\\priya\\Documents\\Data\\IMG\\left_2019_01_13_15_22_38_006.jpg</td>\n",
              "      <td>C:\\Users\\priya\\Documents\\Data\\IMG\\right_2019_01_13_15_22_38_006.jpg</td>\n",
              "      <td>0.0</td>\n",
              "      <td>0.0</td>\n",
              "      <td>0</td>\n",
              "      <td>0.000078</td>\n",
              "    </tr>\n",
              "    <tr>\n",
              "      <th>4</th>\n",
              "      <td>C:\\Users\\priya\\Documents\\Data\\IMG\\center_2019_01_13_15_22_38_112.jpg</td>\n",
              "      <td>C:\\Users\\priya\\Documents\\Data\\IMG\\left_2019_01_13_15_22_38_112.jpg</td>\n",
              "      <td>C:\\Users\\priya\\Documents\\Data\\IMG\\right_2019_01_13_15_22_38_112.jpg</td>\n",
              "      <td>0.0</td>\n",
              "      <td>0.0</td>\n",
              "      <td>0</td>\n",
              "      <td>0.000079</td>\n",
              "    </tr>\n",
              "  </tbody>\n",
              "</table>\n",
              "</div>"
            ],
            "text/plain": [
              "                                                                 center  \\\n",
              "0  C:\\Users\\priya\\Documents\\Data\\IMG\\center_2019_01_13_15_22_37_699.jpg   \n",
              "1  C:\\Users\\priya\\Documents\\Data\\IMG\\center_2019_01_13_15_22_37_801.jpg   \n",
              "2  C:\\Users\\priya\\Documents\\Data\\IMG\\center_2019_01_13_15_22_37_904.jpg   \n",
              "3  C:\\Users\\priya\\Documents\\Data\\IMG\\center_2019_01_13_15_22_38_006.jpg   \n",
              "4  C:\\Users\\priya\\Documents\\Data\\IMG\\center_2019_01_13_15_22_38_112.jpg   \n",
              "\n",
              "                                                                  left  \\\n",
              "0   C:\\Users\\priya\\Documents\\Data\\IMG\\left_2019_01_13_15_22_37_699.jpg   \n",
              "1   C:\\Users\\priya\\Documents\\Data\\IMG\\left_2019_01_13_15_22_37_801.jpg   \n",
              "2   C:\\Users\\priya\\Documents\\Data\\IMG\\left_2019_01_13_15_22_37_904.jpg   \n",
              "3   C:\\Users\\priya\\Documents\\Data\\IMG\\left_2019_01_13_15_22_38_006.jpg   \n",
              "4   C:\\Users\\priya\\Documents\\Data\\IMG\\left_2019_01_13_15_22_38_112.jpg   \n",
              "\n",
              "                                                                  right  \\\n",
              "0   C:\\Users\\priya\\Documents\\Data\\IMG\\right_2019_01_13_15_22_37_699.jpg   \n",
              "1   C:\\Users\\priya\\Documents\\Data\\IMG\\right_2019_01_13_15_22_37_801.jpg   \n",
              "2   C:\\Users\\priya\\Documents\\Data\\IMG\\right_2019_01_13_15_22_37_904.jpg   \n",
              "3   C:\\Users\\priya\\Documents\\Data\\IMG\\right_2019_01_13_15_22_38_006.jpg   \n",
              "4   C:\\Users\\priya\\Documents\\Data\\IMG\\right_2019_01_13_15_22_38_112.jpg   \n",
              "\n",
              "   steering  throttle  reverse     speed  \n",
              "0  0.0       0.0       0        0.000078  \n",
              "1  0.0       0.0       0        0.000078  \n",
              "2  0.0       0.0       0        0.000078  \n",
              "3  0.0       0.0       0        0.000078  \n",
              "4  0.0       0.0       0        0.000079  "
            ]
          },
          "metadata": {
            "tags": []
          },
          "execution_count": 4
        }
      ]
    },
    {
      "metadata": {
        "id": "oyIVuw5naBVX",
        "colab_type": "code",
        "outputId": "69e5ae27-a89e-4e27-98d7-42261e40883d",
        "colab": {
          "base_uri": "https://localhost:8080/",
          "height": 203
        }
      },
      "cell_type": "code",
      "source": [
        "def path_leaf(path):\n",
        "  head, tail = ntpath.split(path)\n",
        "  return tail\n",
        "\n",
        "data['center'] = data['center'].apply(path_leaf)\n",
        "data['left'] = data['left'].apply(path_leaf)\n",
        "data['right'] = data['right'].apply(path_leaf)\n",
        "data.head()\n",
        "\n"
      ],
      "execution_count": 5,
      "outputs": [
        {
          "output_type": "execute_result",
          "data": {
            "text/html": [
              "<div>\n",
              "<style scoped>\n",
              "    .dataframe tbody tr th:only-of-type {\n",
              "        vertical-align: middle;\n",
              "    }\n",
              "\n",
              "    .dataframe tbody tr th {\n",
              "        vertical-align: top;\n",
              "    }\n",
              "\n",
              "    .dataframe thead th {\n",
              "        text-align: right;\n",
              "    }\n",
              "</style>\n",
              "<table border=\"1\" class=\"dataframe\">\n",
              "  <thead>\n",
              "    <tr style=\"text-align: right;\">\n",
              "      <th></th>\n",
              "      <th>center</th>\n",
              "      <th>left</th>\n",
              "      <th>right</th>\n",
              "      <th>steering</th>\n",
              "      <th>throttle</th>\n",
              "      <th>reverse</th>\n",
              "      <th>speed</th>\n",
              "    </tr>\n",
              "  </thead>\n",
              "  <tbody>\n",
              "    <tr>\n",
              "      <th>0</th>\n",
              "      <td>center_2019_01_13_15_22_37_699.jpg</td>\n",
              "      <td>left_2019_01_13_15_22_37_699.jpg</td>\n",
              "      <td>right_2019_01_13_15_22_37_699.jpg</td>\n",
              "      <td>0.0</td>\n",
              "      <td>0.0</td>\n",
              "      <td>0</td>\n",
              "      <td>0.000078</td>\n",
              "    </tr>\n",
              "    <tr>\n",
              "      <th>1</th>\n",
              "      <td>center_2019_01_13_15_22_37_801.jpg</td>\n",
              "      <td>left_2019_01_13_15_22_37_801.jpg</td>\n",
              "      <td>right_2019_01_13_15_22_37_801.jpg</td>\n",
              "      <td>0.0</td>\n",
              "      <td>0.0</td>\n",
              "      <td>0</td>\n",
              "      <td>0.000078</td>\n",
              "    </tr>\n",
              "    <tr>\n",
              "      <th>2</th>\n",
              "      <td>center_2019_01_13_15_22_37_904.jpg</td>\n",
              "      <td>left_2019_01_13_15_22_37_904.jpg</td>\n",
              "      <td>right_2019_01_13_15_22_37_904.jpg</td>\n",
              "      <td>0.0</td>\n",
              "      <td>0.0</td>\n",
              "      <td>0</td>\n",
              "      <td>0.000078</td>\n",
              "    </tr>\n",
              "    <tr>\n",
              "      <th>3</th>\n",
              "      <td>center_2019_01_13_15_22_38_006.jpg</td>\n",
              "      <td>left_2019_01_13_15_22_38_006.jpg</td>\n",
              "      <td>right_2019_01_13_15_22_38_006.jpg</td>\n",
              "      <td>0.0</td>\n",
              "      <td>0.0</td>\n",
              "      <td>0</td>\n",
              "      <td>0.000078</td>\n",
              "    </tr>\n",
              "    <tr>\n",
              "      <th>4</th>\n",
              "      <td>center_2019_01_13_15_22_38_112.jpg</td>\n",
              "      <td>left_2019_01_13_15_22_38_112.jpg</td>\n",
              "      <td>right_2019_01_13_15_22_38_112.jpg</td>\n",
              "      <td>0.0</td>\n",
              "      <td>0.0</td>\n",
              "      <td>0</td>\n",
              "      <td>0.000079</td>\n",
              "    </tr>\n",
              "  </tbody>\n",
              "</table>\n",
              "</div>"
            ],
            "text/plain": [
              "                               center                              left  \\\n",
              "0  center_2019_01_13_15_22_37_699.jpg  left_2019_01_13_15_22_37_699.jpg   \n",
              "1  center_2019_01_13_15_22_37_801.jpg  left_2019_01_13_15_22_37_801.jpg   \n",
              "2  center_2019_01_13_15_22_37_904.jpg  left_2019_01_13_15_22_37_904.jpg   \n",
              "3  center_2019_01_13_15_22_38_006.jpg  left_2019_01_13_15_22_38_006.jpg   \n",
              "4  center_2019_01_13_15_22_38_112.jpg  left_2019_01_13_15_22_38_112.jpg   \n",
              "\n",
              "                               right  steering  throttle  reverse     speed  \n",
              "0  right_2019_01_13_15_22_37_699.jpg  0.0       0.0       0        0.000078  \n",
              "1  right_2019_01_13_15_22_37_801.jpg  0.0       0.0       0        0.000078  \n",
              "2  right_2019_01_13_15_22_37_904.jpg  0.0       0.0       0        0.000078  \n",
              "3  right_2019_01_13_15_22_38_006.jpg  0.0       0.0       0        0.000078  \n",
              "4  right_2019_01_13_15_22_38_112.jpg  0.0       0.0       0        0.000079  "
            ]
          },
          "metadata": {
            "tags": []
          },
          "execution_count": 5
        }
      ]
    },
    {
      "metadata": {
        "id": "B8gha9ArbiYR",
        "colab_type": "code",
        "colab": {
          "base_uri": "https://localhost:8080/",
          "height": 368
        },
        "outputId": "842e8648-92ef-4121-99f1-4bd69d057c6b"
      },
      "cell_type": "code",
      "source": [
        "num_bins = 25\n",
        "samples_per_bin = 400\n",
        "hist, bins = np.histogram(data['steering'])\n",
        "center = (bins[:-1] + bins[1:])*.5\n",
        "plt.bar(center,hist,width = .05)\n"
      ],
      "execution_count": 6,
      "outputs": [
        {
          "output_type": "execute_result",
          "data": {
            "text/plain": [
              "<Container object of 10 artists>"
            ]
          },
          "metadata": {
            "tags": []
          },
          "execution_count": 6
        },
        {
          "output_type": "display_data",
          "data": {
            "image/png": "[encoded data removed]",
            "text/plain": [
              "<matplotlib.figure.Figure at 0x7fa483592b00>"
            ]
          },
          "metadata": {
            "tags": []
          }
        }
      ]
    },
    {
      "metadata": {
        "id": "JPr_6k1T_TK-",
        "colab_type": "code",
        "colab": {
          "base_uri": "https://localhost:8080/",
          "height": 251
        },
        "outputId": "f46b65ea-757c-4402-fa1e-d868f4ac8ea6"
      },
      "cell_type": "code",
      "source": [
        "print('total data:', len(data))\n",
        "remove_list = []\n",
        "for j in range(num_bins):\n",
        "  list_ = []\n",
        "  for i in range(len(data['steering'])):\n",
        "    if data['steering'][i] >= bins[j] and data['steering'][i] <= bins[j+1]:\n",
        "      list_.append(i)\n",
        "  list_ = shuffle(list_)\n",
        "  list_ = list_[samples_per_bin:]\n",
        "  remove_list.extend(list_)\n",
        " \n",
        "print('removed:', len(remove_list))\n",
        "data.drop(data.index[remove_list], inplace=True)\n",
        "print('remaining:', len(data))\n",
        " \n",
        "hist, _ = np.histogram(data['steering'], (num_bins))\n",
        "plt.bar(center, hist, width=0.05)\n",
        "plt.plot((np.min(data['steering']), np.max(data['steering'])), (samples_per_bin, samples_per_bin))"
      ],
      "execution_count": 8,
      "outputs": [
        {
          "output_type": "stream",
          "text": [
            "total data: 3834\n"
          ],
          "name": "stdout"
        },
        {
          "output_type": "error",
          "ename": "IndexError",
          "evalue": "ignored",
          "traceback": [
            "\u001b[0;31m---------------------------------------------------------------------------\u001b[0m",
            "\u001b[0;31mIndexError\u001b[0m                                Traceback (most recent call last)",
            "\u001b[0;32m<ipython-input-8-d558b7613a5b>\u001b[0m in \u001b[0;36m<module>\u001b[0;34m()\u001b[0m\n\u001b[1;32m      4\u001b[0m   \u001b[0mlist_\u001b[0m \u001b[0;34m=\u001b[0m \u001b[0;34m[\u001b[0m\u001b[0;34m]\u001b[0m\u001b[0;34m\u001b[0m\u001b[0;34m\u001b[0m\u001b[0m\n\u001b[1;32m      5\u001b[0m   \u001b[0;32mfor\u001b[0m \u001b[0mi\u001b[0m \u001b[0;32min\u001b[0m \u001b[0mrange\u001b[0m\u001b[0;34m(\u001b[0m\u001b[0mlen\u001b[0m\u001b[0;34m(\u001b[0m\u001b[0mdata\u001b[0m\u001b[0;34m[\u001b[0m\u001b[0;34m'steering'\u001b[0m\u001b[0;34m]\u001b[0m\u001b[0;34m)\u001b[0m\u001b[0;34m)\u001b[0m\u001b[0;34m:\u001b[0m\u001b[0;34m\u001b[0m\u001b[0;34m\u001b[0m\u001b[0m\n\u001b[0;32m----> 6\u001b[0;31m     \u001b[0;32mif\u001b[0m \u001b[0mdata\u001b[0m\u001b[0;34m[\u001b[0m\u001b[0;34m'steering'\u001b[0m\u001b[0;34m]\u001b[0m\u001b[0;34m[\u001b[0m\u001b[0mi\u001b[0m\u001b[0;34m]\u001b[0m \u001b[0;34m>=\u001b[0m \u001b[0mbins\u001b[0m\u001b[0;34m[\u001b[0m\u001b[0mj\u001b[0m\u001b[0;34m]\u001b[0m \u001b[0;32mand\u001b[0m \u001b[0mdata\u001b[0m\u001b[0;34m[\u001b[0m\u001b[0;34m'steering'\u001b[0m\u001b[0;34m]\u001b[0m\u001b[0;34m[\u001b[0m\u001b[0mi\u001b[0m\u001b[0;34m]\u001b[0m \u001b[0;34m<=\u001b[0m \u001b[0mbins\u001b[0m\u001b[0;34m[\u001b[0m\u001b[0mj\u001b[0m\u001b[0;34m+\u001b[0m\u001b[0;36m1\u001b[0m\u001b[0;34m]\u001b[0m\u001b[0;34m:\u001b[0m\u001b[0;34m\u001b[0m\u001b[0;34m\u001b[0m\u001b[0m\n\u001b[0m\u001b[1;32m      7\u001b[0m       \u001b[0mlist_\u001b[0m\u001b[0;34m.\u001b[0m\u001b[0mappend\u001b[0m\u001b[0;34m(\u001b[0m\u001b[0mi\u001b[0m\u001b[0;34m)\u001b[0m\u001b[0;34m\u001b[0m\u001b[0;34m\u001b[0m\u001b[0m\n\u001b[1;32m      8\u001b[0m   \u001b[0mlist_\u001b[0m \u001b[0;34m=\u001b[0m \u001b[0mshuffle\u001b[0m\u001b[0;34m(\u001b[0m\u001b[0mlist_\u001b[0m\u001b[0;34m)\u001b[0m\u001b[0;34m\u001b[0m\u001b[0;34m\u001b[0m\u001b[0m\n",
            "\u001b[0;31mIndexError\u001b[0m: index 11 is out of bounds for axis 0 with size 11"
          ]
        }
      ]
    },
    {
      "metadata": {
        "id": "xRMdH4OmEONv",
        "colab_type": "code",
        "colab": {}
      },
      "cell_type": "code",
      "source": [
        ""
      ],
      "execution_count": 0,
      "outputs": []
    }
  ]
}